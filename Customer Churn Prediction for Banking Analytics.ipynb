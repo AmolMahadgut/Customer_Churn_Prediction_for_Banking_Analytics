{
 "cells": [
  {
   "cell_type": "code",
   "execution_count": 1,
   "id": "cc76404e",
   "metadata": {},
   "outputs": [],
   "source": [
    "import pandas as pd \n",
    "import numpy as np\n",
    "import matplotlib.pyplot as plt \n",
    "from sklearn.model_selection import train_test_split\n",
    "from sklearn.preprocessing import StandardScaler,LabelEncoder\n",
    "from sklearn.metrics import classification_report,confusion_matrix,accuracy_score"
   ]
  },
  {
   "cell_type": "code",
   "execution_count": 2,
   "id": "206e8094",
   "metadata": {},
   "outputs": [
    {
     "data": {
      "text/html": [
       "<div>\n",
       "<style scoped>\n",
       "    .dataframe tbody tr th:only-of-type {\n",
       "        vertical-align: middle;\n",
       "    }\n",
       "\n",
       "    .dataframe tbody tr th {\n",
       "        vertical-align: top;\n",
       "    }\n",
       "\n",
       "    .dataframe thead th {\n",
       "        text-align: right;\n",
       "    }\n",
       "</style>\n",
       "<table border=\"1\" class=\"dataframe\">\n",
       "  <thead>\n",
       "    <tr style=\"text-align: right;\">\n",
       "      <th></th>\n",
       "      <th>RowNumber</th>\n",
       "      <th>CustomerId</th>\n",
       "      <th>Surname</th>\n",
       "      <th>CreditScore</th>\n",
       "      <th>Geography</th>\n",
       "      <th>Gender</th>\n",
       "      <th>Age</th>\n",
       "      <th>Tenure</th>\n",
       "      <th>Balance</th>\n",
       "      <th>NumOfProducts</th>\n",
       "      <th>HasCrCard</th>\n",
       "      <th>IsActiveMember</th>\n",
       "      <th>EstimatedSalary</th>\n",
       "      <th>Exited</th>\n",
       "    </tr>\n",
       "  </thead>\n",
       "  <tbody>\n",
       "    <tr>\n",
       "      <th>0</th>\n",
       "      <td>1</td>\n",
       "      <td>15634602</td>\n",
       "      <td>Hargrave</td>\n",
       "      <td>619</td>\n",
       "      <td>France</td>\n",
       "      <td>Female</td>\n",
       "      <td>42</td>\n",
       "      <td>2</td>\n",
       "      <td>0.00</td>\n",
       "      <td>1</td>\n",
       "      <td>1</td>\n",
       "      <td>1</td>\n",
       "      <td>101348.88</td>\n",
       "      <td>1</td>\n",
       "    </tr>\n",
       "    <tr>\n",
       "      <th>1</th>\n",
       "      <td>2</td>\n",
       "      <td>15647311</td>\n",
       "      <td>Hill</td>\n",
       "      <td>608</td>\n",
       "      <td>Spain</td>\n",
       "      <td>Female</td>\n",
       "      <td>41</td>\n",
       "      <td>1</td>\n",
       "      <td>83807.86</td>\n",
       "      <td>1</td>\n",
       "      <td>0</td>\n",
       "      <td>1</td>\n",
       "      <td>112542.58</td>\n",
       "      <td>0</td>\n",
       "    </tr>\n",
       "    <tr>\n",
       "      <th>2</th>\n",
       "      <td>3</td>\n",
       "      <td>15619304</td>\n",
       "      <td>Onio</td>\n",
       "      <td>502</td>\n",
       "      <td>France</td>\n",
       "      <td>Female</td>\n",
       "      <td>42</td>\n",
       "      <td>8</td>\n",
       "      <td>159660.80</td>\n",
       "      <td>3</td>\n",
       "      <td>1</td>\n",
       "      <td>0</td>\n",
       "      <td>113931.57</td>\n",
       "      <td>1</td>\n",
       "    </tr>\n",
       "    <tr>\n",
       "      <th>3</th>\n",
       "      <td>4</td>\n",
       "      <td>15701354</td>\n",
       "      <td>Boni</td>\n",
       "      <td>699</td>\n",
       "      <td>France</td>\n",
       "      <td>Female</td>\n",
       "      <td>39</td>\n",
       "      <td>1</td>\n",
       "      <td>0.00</td>\n",
       "      <td>2</td>\n",
       "      <td>0</td>\n",
       "      <td>0</td>\n",
       "      <td>93826.63</td>\n",
       "      <td>0</td>\n",
       "    </tr>\n",
       "    <tr>\n",
       "      <th>4</th>\n",
       "      <td>5</td>\n",
       "      <td>15737888</td>\n",
       "      <td>Mitchell</td>\n",
       "      <td>850</td>\n",
       "      <td>Spain</td>\n",
       "      <td>Female</td>\n",
       "      <td>43</td>\n",
       "      <td>2</td>\n",
       "      <td>125510.82</td>\n",
       "      <td>1</td>\n",
       "      <td>1</td>\n",
       "      <td>1</td>\n",
       "      <td>79084.10</td>\n",
       "      <td>0</td>\n",
       "    </tr>\n",
       "  </tbody>\n",
       "</table>\n",
       "</div>"
      ],
      "text/plain": [
       "   RowNumber  CustomerId   Surname  CreditScore Geography  Gender  Age  \\\n",
       "0          1    15634602  Hargrave          619    France  Female   42   \n",
       "1          2    15647311      Hill          608     Spain  Female   41   \n",
       "2          3    15619304      Onio          502    France  Female   42   \n",
       "3          4    15701354      Boni          699    France  Female   39   \n",
       "4          5    15737888  Mitchell          850     Spain  Female   43   \n",
       "\n",
       "   Tenure    Balance  NumOfProducts  HasCrCard  IsActiveMember  \\\n",
       "0       2       0.00              1          1               1   \n",
       "1       1   83807.86              1          0               1   \n",
       "2       8  159660.80              3          1               0   \n",
       "3       1       0.00              2          0               0   \n",
       "4       2  125510.82              1          1               1   \n",
       "\n",
       "   EstimatedSalary  Exited  \n",
       "0        101348.88       1  \n",
       "1        112542.58       0  \n",
       "2        113931.57       1  \n",
       "3         93826.63       0  \n",
       "4         79084.10       0  "
      ]
     },
     "execution_count": 2,
     "metadata": {},
     "output_type": "execute_result"
    }
   ],
   "source": [
    "df= pd.read_csv('C:/Users/AMOL/Downloads/archive (3)/Churn_Modelling.csv')\n",
    "df.head()"
   ]
  },
  {
   "cell_type": "code",
   "execution_count": 3,
   "id": "3a44102c",
   "metadata": {},
   "outputs": [
    {
     "name": "stdout",
     "output_type": "stream",
     "text": [
      "<class 'pandas.core.frame.DataFrame'>\n",
      "RangeIndex: 10000 entries, 0 to 9999\n",
      "Data columns (total 14 columns):\n",
      " #   Column           Non-Null Count  Dtype  \n",
      "---  ------           --------------  -----  \n",
      " 0   RowNumber        10000 non-null  int64  \n",
      " 1   CustomerId       10000 non-null  int64  \n",
      " 2   Surname          10000 non-null  object \n",
      " 3   CreditScore      10000 non-null  int64  \n",
      " 4   Geography        10000 non-null  object \n",
      " 5   Gender           10000 non-null  object \n",
      " 6   Age              10000 non-null  int64  \n",
      " 7   Tenure           10000 non-null  int64  \n",
      " 8   Balance          10000 non-null  float64\n",
      " 9   NumOfProducts    10000 non-null  int64  \n",
      " 10  HasCrCard        10000 non-null  int64  \n",
      " 11  IsActiveMember   10000 non-null  int64  \n",
      " 12  EstimatedSalary  10000 non-null  float64\n",
      " 13  Exited           10000 non-null  int64  \n",
      "dtypes: float64(2), int64(9), object(3)\n",
      "memory usage: 1.1+ MB\n"
     ]
    }
   ],
   "source": [
    "df.info()"
   ]
  },
  {
   "cell_type": "code",
   "execution_count": 4,
   "id": "f525c1c7",
   "metadata": {},
   "outputs": [
    {
     "data": {
      "text/plain": [
       "(10000, 14)"
      ]
     },
     "execution_count": 4,
     "metadata": {},
     "output_type": "execute_result"
    }
   ],
   "source": [
    "df.shape"
   ]
  },
  {
   "cell_type": "code",
   "execution_count": 5,
   "id": "4ac914c6",
   "metadata": {},
   "outputs": [
    {
     "data": {
      "text/plain": [
       "RowNumber          0\n",
       "CustomerId         0\n",
       "Surname            0\n",
       "CreditScore        0\n",
       "Geography          0\n",
       "Gender             0\n",
       "Age                0\n",
       "Tenure             0\n",
       "Balance            0\n",
       "NumOfProducts      0\n",
       "HasCrCard          0\n",
       "IsActiveMember     0\n",
       "EstimatedSalary    0\n",
       "Exited             0\n",
       "dtype: int64"
      ]
     },
     "execution_count": 5,
     "metadata": {},
     "output_type": "execute_result"
    }
   ],
   "source": [
    "df.isnull().sum()"
   ]
  },
  {
   "cell_type": "code",
   "execution_count": 6,
   "id": "d62e2adb",
   "metadata": {},
   "outputs": [
    {
     "data": {
      "text/html": [
       "<div>\n",
       "<style scoped>\n",
       "    .dataframe tbody tr th:only-of-type {\n",
       "        vertical-align: middle;\n",
       "    }\n",
       "\n",
       "    .dataframe tbody tr th {\n",
       "        vertical-align: top;\n",
       "    }\n",
       "\n",
       "    .dataframe thead th {\n",
       "        text-align: right;\n",
       "    }\n",
       "</style>\n",
       "<table border=\"1\" class=\"dataframe\">\n",
       "  <thead>\n",
       "    <tr style=\"text-align: right;\">\n",
       "      <th></th>\n",
       "      <th>RowNumber</th>\n",
       "      <th>CustomerId</th>\n",
       "      <th>Surname</th>\n",
       "      <th>CreditScore</th>\n",
       "      <th>Geography</th>\n",
       "      <th>Gender</th>\n",
       "      <th>Age</th>\n",
       "      <th>Tenure</th>\n",
       "      <th>Balance</th>\n",
       "      <th>NumOfProducts</th>\n",
       "      <th>HasCrCard</th>\n",
       "      <th>IsActiveMember</th>\n",
       "      <th>EstimatedSalary</th>\n",
       "      <th>Exited</th>\n",
       "    </tr>\n",
       "  </thead>\n",
       "  <tbody>\n",
       "  </tbody>\n",
       "</table>\n",
       "</div>"
      ],
      "text/plain": [
       "Empty DataFrame\n",
       "Columns: [RowNumber, CustomerId, Surname, CreditScore, Geography, Gender, Age, Tenure, Balance, NumOfProducts, HasCrCard, IsActiveMember, EstimatedSalary, Exited]\n",
       "Index: []"
      ]
     },
     "execution_count": 6,
     "metadata": {},
     "output_type": "execute_result"
    }
   ],
   "source": [
    "df[df.duplicated()]"
   ]
  },
  {
   "cell_type": "code",
   "execution_count": 7,
   "id": "55a83e2b",
   "metadata": {},
   "outputs": [
    {
     "name": "stdout",
     "output_type": "stream",
     "text": [
      "Chi-square Test: p-value = 2.2482100097131755e-26\n",
      "A low p-value (< 0.05) suggests that there is a significant relationship between gender and churn.\n"
     ]
    }
   ],
   "source": [
    "# Chi-Square Test for Categorical Features: To determine \n",
    "# if there is a significant association between categorical\n",
    "# features (e.g., Gender, Geography) and the churn status.\n",
    "from scipy.stats import chi2_contingency\n",
    "\n",
    "# Cross-tabulation of Gender and Churn\n",
    "contingency_table = pd.crosstab(df['Gender'], df['Exited'])\n",
    "chi2, p, dof, ex = chi2_contingency(contingency_table)\n",
    "\n",
    "print(f\"Chi-square Test: p-value = {p}\")\n",
    "\n",
    "print('A low p-value (< 0.05) suggests that there is a significant relationship between gender and churn.')"
   ]
  },
  {
   "cell_type": "code",
   "execution_count": 9,
   "id": "1664b073",
   "metadata": {},
   "outputs": [
    {
     "name": "stdout",
     "output_type": "stream",
     "text": [
      "Chi-square Test: p-value = 3.8303176053541544e-66\n",
      "A low p-value (< 0.05) suggests that there is a significant relationship between Geography and churn.\n"
     ]
    }
   ],
   "source": [
    "# Cross-tabulation of Geography and Churn\n",
    "contingency_table = pd.crosstab(df['Geography'], df['Exited'])\n",
    "chi2, p, dof, ex = chi2_contingency(contingency_table)\n",
    "\n",
    "print(f\"Chi-square Test: p-value = {p}\")\n",
    "\n",
    "print('A low p-value (< 0.05) suggests that there is a significant relationship between Geography and churn.')"
   ]
  },
  {
   "cell_type": "code",
   "execution_count": 10,
   "id": "0c7b820c",
   "metadata": {},
   "outputs": [
    {
     "name": "stdout",
     "output_type": "stream",
     "text": [
      "T-Test for Credit Score: p-value = 0.006738213892192373\n",
      "A low p-value (< 0.05) indicates that there is a significant \n",
      "difference in credit scores between churned and non-churned customers.\n"
     ]
    }
   ],
   "source": [
    "# T-Test for Numerical Features: Use a t-test to compare the means of numerical \n",
    "# features like Credit Score, Age, and Balance between churned and non-churned customers.\n",
    "from scipy.stats import ttest_ind\n",
    "\n",
    "# Test between customers who churned and those who didn’t\n",
    "churned = df[df['Exited'] == 1]\n",
    "not_churned = df[df['Exited'] == 0]\n",
    "\n",
    "# T-test for Credit Score\n",
    "t_stat, p_value = ttest_ind(churned['CreditScore'], not_churned['CreditScore'])\n",
    "\n",
    "print(f\"T-Test for Credit Score: p-value = {p_value}\")\n",
    "print('A low p-value (< 0.05) indicates that there is a significant ')\n",
    "print('difference in credit scores between churned and non-churned customers.')     "
   ]
  },
  {
   "cell_type": "code",
   "execution_count": 13,
   "id": "6dcb042f",
   "metadata": {},
   "outputs": [
    {
     "name": "stdout",
     "output_type": "stream",
     "text": [
      "T-Test for Credit Score: p-value = 1.2399313093427738e-186\n",
      "A low p-value (< 0.05) indicates that there is a significant \n",
      "difference in Age between churned and non-churned customers.\n"
     ]
    }
   ],
   "source": [
    "# T-test for Age \n",
    "t_stat, p_value = ttest_ind(churned['Age'], not_churned['Age'])\n",
    "\n",
    "print(f\"T-Test for Credit Score: p-value = {p_value}\")\n",
    "print('A low p-value (< 0.05) indicates that there is a significant ')\n",
    "print('difference in Age between churned and non-churned customers.')     "
   ]
  },
  {
   "cell_type": "code",
   "execution_count": 14,
   "id": "4df24b2f",
   "metadata": {},
   "outputs": [
    {
     "name": "stdout",
     "output_type": "stream",
     "text": [
      "T-Test for Credit Score: p-value = 1.2755633191525477e-32\n",
      "A low p-value (< 0.05) indicates that there is a significant \n",
      "difference in Balance between churned and non-churned customers.\n"
     ]
    }
   ],
   "source": [
    "# T-test for Balance \n",
    "t_stat, p_value = ttest_ind(churned['Balance'], not_churned['Balance'])\n",
    "\n",
    "print(f\"T-Test for Credit Score: p-value = {p_value}\")\n",
    "print('A low p-value (< 0.05) indicates that there is a significant ')\n",
    "print('difference in Balance between churned and non-churned customers.')     "
   ]
  },
  {
   "cell_type": "code",
   "execution_count": 226,
   "id": "c1243077",
   "metadata": {},
   "outputs": [],
   "source": [
    "# Encode 'Exited' for clearer labeling (0=Stayed, 1=Churned)\n",
    "df['Exited_new'] = df['Exited'].replace({0: 'Stayed', 1: 'Churned'})"
   ]
  },
  {
   "cell_type": "code",
   "execution_count": 227,
   "id": "570be0e5",
   "metadata": {},
   "outputs": [
    {
     "data": {
      "text/html": [
       "<div>\n",
       "<style scoped>\n",
       "    .dataframe tbody tr th:only-of-type {\n",
       "        vertical-align: middle;\n",
       "    }\n",
       "\n",
       "    .dataframe tbody tr th {\n",
       "        vertical-align: top;\n",
       "    }\n",
       "\n",
       "    .dataframe thead th {\n",
       "        text-align: right;\n",
       "    }\n",
       "</style>\n",
       "<table border=\"1\" class=\"dataframe\">\n",
       "  <thead>\n",
       "    <tr style=\"text-align: right;\">\n",
       "      <th></th>\n",
       "      <th>RowNumber</th>\n",
       "      <th>CustomerId</th>\n",
       "      <th>Surname</th>\n",
       "      <th>CreditScore</th>\n",
       "      <th>Geography</th>\n",
       "      <th>Gender</th>\n",
       "      <th>Age</th>\n",
       "      <th>Tenure</th>\n",
       "      <th>Balance</th>\n",
       "      <th>NumOfProducts</th>\n",
       "      <th>HasCrCard</th>\n",
       "      <th>IsActiveMember</th>\n",
       "      <th>EstimatedSalary</th>\n",
       "      <th>Exited</th>\n",
       "      <th>Exited_new</th>\n",
       "    </tr>\n",
       "  </thead>\n",
       "  <tbody>\n",
       "    <tr>\n",
       "      <th>7984</th>\n",
       "      <td>7985</td>\n",
       "      <td>15678206</td>\n",
       "      <td>Yeh</td>\n",
       "      <td>464</td>\n",
       "      <td>France</td>\n",
       "      <td>Male</td>\n",
       "      <td>46</td>\n",
       "      <td>6</td>\n",
       "      <td>161798.53</td>\n",
       "      <td>1</td>\n",
       "      <td>1</td>\n",
       "      <td>0</td>\n",
       "      <td>182944.47</td>\n",
       "      <td>0</td>\n",
       "      <td>Stayed</td>\n",
       "    </tr>\n",
       "    <tr>\n",
       "      <th>5201</th>\n",
       "      <td>5202</td>\n",
       "      <td>15625675</td>\n",
       "      <td>Clements</td>\n",
       "      <td>569</td>\n",
       "      <td>France</td>\n",
       "      <td>Male</td>\n",
       "      <td>36</td>\n",
       "      <td>1</td>\n",
       "      <td>67087.69</td>\n",
       "      <td>1</td>\n",
       "      <td>1</td>\n",
       "      <td>0</td>\n",
       "      <td>154775.70</td>\n",
       "      <td>0</td>\n",
       "      <td>Stayed</td>\n",
       "    </tr>\n",
       "    <tr>\n",
       "      <th>1638</th>\n",
       "      <td>1639</td>\n",
       "      <td>15571550</td>\n",
       "      <td>Dore</td>\n",
       "      <td>699</td>\n",
       "      <td>France</td>\n",
       "      <td>Male</td>\n",
       "      <td>39</td>\n",
       "      <td>9</td>\n",
       "      <td>0.00</td>\n",
       "      <td>1</td>\n",
       "      <td>1</td>\n",
       "      <td>0</td>\n",
       "      <td>80963.92</td>\n",
       "      <td>0</td>\n",
       "      <td>Stayed</td>\n",
       "    </tr>\n",
       "    <tr>\n",
       "      <th>2693</th>\n",
       "      <td>2694</td>\n",
       "      <td>15627697</td>\n",
       "      <td>Alekseyeva</td>\n",
       "      <td>662</td>\n",
       "      <td>France</td>\n",
       "      <td>Male</td>\n",
       "      <td>34</td>\n",
       "      <td>2</td>\n",
       "      <td>0.00</td>\n",
       "      <td>2</td>\n",
       "      <td>0</td>\n",
       "      <td>1</td>\n",
       "      <td>21497.27</td>\n",
       "      <td>0</td>\n",
       "      <td>Stayed</td>\n",
       "    </tr>\n",
       "    <tr>\n",
       "      <th>275</th>\n",
       "      <td>276</td>\n",
       "      <td>15758685</td>\n",
       "      <td>Dubinina</td>\n",
       "      <td>706</td>\n",
       "      <td>Spain</td>\n",
       "      <td>Female</td>\n",
       "      <td>37</td>\n",
       "      <td>7</td>\n",
       "      <td>0.00</td>\n",
       "      <td>2</td>\n",
       "      <td>1</td>\n",
       "      <td>1</td>\n",
       "      <td>110899.30</td>\n",
       "      <td>0</td>\n",
       "      <td>Stayed</td>\n",
       "    </tr>\n",
       "  </tbody>\n",
       "</table>\n",
       "</div>"
      ],
      "text/plain": [
       "      RowNumber  CustomerId     Surname  CreditScore Geography  Gender  Age  \\\n",
       "7984       7985    15678206         Yeh          464    France    Male   46   \n",
       "5201       5202    15625675    Clements          569    France    Male   36   \n",
       "1638       1639    15571550        Dore          699    France    Male   39   \n",
       "2693       2694    15627697  Alekseyeva          662    France    Male   34   \n",
       "275         276    15758685    Dubinina          706     Spain  Female   37   \n",
       "\n",
       "      Tenure    Balance  NumOfProducts  HasCrCard  IsActiveMember  \\\n",
       "7984       6  161798.53              1          1               0   \n",
       "5201       1   67087.69              1          1               0   \n",
       "1638       9       0.00              1          1               0   \n",
       "2693       2       0.00              2          0               1   \n",
       "275        7       0.00              2          1               1   \n",
       "\n",
       "      EstimatedSalary  Exited Exited_new  \n",
       "7984        182944.47       0     Stayed  \n",
       "5201        154775.70       0     Stayed  \n",
       "1638         80963.92       0     Stayed  \n",
       "2693         21497.27       0     Stayed  \n",
       "275         110899.30       0     Stayed  "
      ]
     },
     "execution_count": 227,
     "metadata": {},
     "output_type": "execute_result"
    }
   ],
   "source": [
    "df.sample(5)"
   ]
  },
  {
   "cell_type": "code",
   "execution_count": 228,
   "id": "efe723c1",
   "metadata": {},
   "outputs": [
    {
     "data": {
      "image/png": "[encoded data removed]",
      "text/plain": [
       "<Figure size 500x400 with 1 Axes>"
      ]
     },
     "metadata": {},
     "output_type": "display_data"
    },
    {
     "name": "stdout",
     "output_type": "stream",
     "text": [
      "Exited_new  Churned  Stayed    All\n",
      "Gender                            \n",
      "Female         1139    3404   4543\n",
      "Male            898    4559   5457\n",
      "All            2037    7963  10000\n"
     ]
    }
   ],
   "source": [
    "# Create a bar chart showing churn rate by Gender\n",
    "plt.figure(figsize=(5,4))\n",
    "sns.countplot(x='Gender', hue='Exited_new', data=df, palette='coolwarm')\n",
    "plt.title('Churn Rate by Gender')\n",
    "plt.xlabel('Gender')\n",
    "plt.ylabel('Count')\n",
    "plt.show()\n",
    "\n",
    "gender_crosstab = pd.crosstab(df['Gender'], df['Exited_new'], margins=True)\n",
    "print(gender_crosstab)\n"
   ]
  },
  {
   "cell_type": "code",
   "execution_count": 229,
   "id": "06187aa2",
   "metadata": {
    "scrolled": false
   },
   "outputs": [
    {
     "data": {
      "image/png": "[encoded data removed]",
      "text/plain": [
       "<Figure size 500x300 with 1 Axes>"
      ]
     },
     "metadata": {},
     "output_type": "display_data"
    },
    {
     "name": "stdout",
     "output_type": "stream",
     "text": [
      "Exited_new  Churned  Stayed    All\n",
      "Geography                         \n",
      "France          810    4204   5014\n",
      "Germany         814    1695   2509\n",
      "Spain           413    2064   2477\n",
      "All            2037    7963  10000\n"
     ]
    }
   ],
   "source": [
    "# Create a bar chart showing churn rate by Geography\n",
    "plt.figure(figsize=(5,3))\n",
    "sns.countplot(x='Geography', hue='Exited_new', data=df, palette='Set2')\n",
    "plt.title('Churn Rate by Geography')\n",
    "plt.xlabel('Geography')\n",
    "plt.ylabel('Count')\n",
    "plt.show()\n",
    "\n",
    "geography_crosstab = pd.crosstab(df['Geography'], df['Exited_new'], margins=True)\n",
    "print(geography_crosstab)\n"
   ]
  },
  {
   "cell_type": "code",
   "execution_count": 230,
   "id": "22f93bf8",
   "metadata": {
    "scrolled": false
   },
   "outputs": [
    {
     "data": {
      "image/png": "[encoded data removed]",
      "text/plain": [
       "<Figure size 500x300 with 1 Axes>"
      ]
     },
     "metadata": {},
     "output_type": "display_data"
    },
    {
     "name": "stdout",
     "output_type": "stream",
     "text": [
      "Exited_new     Churned  Stayed    All\n",
      "NumOfProducts                        \n",
      "1                 1409    3675   5084\n",
      "2                  348    4242   4590\n",
      "3                  220      46    266\n",
      "4                   60       0     60\n",
      "All               2037    7963  10000\n"
     ]
    }
   ],
   "source": [
    "# Create a bar chart showing churn rate by number of products held by the customer\n",
    "plt.figure(figsize=(5,3))\n",
    "sns.countplot(x='NumOfProducts', hue='Exited_new', data=df, palette='Set3')\n",
    "plt.title('Churn Rate by Number of Products')\n",
    "plt.xlabel('Number of Products')\n",
    "plt.ylabel('Count')\n",
    "plt.show()\n",
    "\n",
    "products_crosstab = pd.crosstab(df['NumOfProducts'], df['Exited_new'], margins=True)\n",
    "print(products_crosstab)\n"
   ]
  },
  {
   "cell_type": "code",
   "execution_count": 231,
   "id": "9c709567",
   "metadata": {
    "scrolled": false
   },
   "outputs": [
    {
     "name": "stderr",
     "output_type": "stream",
     "text": [
      "C:\\Users\\AMOL\\anaconda3\\Lib\\site-packages\\seaborn\\categorical.py:641: FutureWarning: The default of observed=False is deprecated and will be changed to True in a future version of pandas. Pass observed=False to retain current behavior or observed=True to adopt the future default and silence this warning.\n",
      "  grouped_vals = vals.groupby(grouper)\n",
      "C:\\Users\\AMOL\\anaconda3\\Lib\\site-packages\\seaborn\\categorical.py:641: FutureWarning: The default of observed=False is deprecated and will be changed to True in a future version of pandas. Pass observed=False to retain current behavior or observed=True to adopt the future default and silence this warning.\n",
      "  grouped_vals = vals.groupby(grouper)\n"
     ]
    },
    {
     "data": {
      "image/png": "[encoded data removed]",
      "text/plain": [
       "<Figure size 500x300 with 1 Axes>"
      ]
     },
     "metadata": {},
     "output_type": "display_data"
    },
    {
     "name": "stdout",
     "output_type": "stream",
     "text": [
      "Exited_new       Churned  Stayed    All\n",
      "CreditScore_Bin                        \n",
      "Low                  152     491    643\n",
      "Medium              1266    4975   6241\n",
      "High                 619    2497   3116\n",
      "All                 2037    7963  10000\n"
     ]
    }
   ],
   "source": [
    "# Create a new column for CreditScore bins\n",
    "df['CreditScore_Bin'] = pd.cut(df['CreditScore'], bins=[300,500,700,900], labels=['Low', 'Medium', 'High'])\n",
    "\n",
    "# Create a bar chart showing churn rate by Credit Score bins\n",
    "plt.figure(figsize=(5,3))\n",
    "sns.countplot(x='CreditScore_Bin', hue='Exited_new', data=df, palette='muted')\n",
    "plt.title('Churn Rate by Credit Score')\n",
    "plt.xlabel('Credit Score')\n",
    "plt.ylabel('Count')\n",
    "plt.show()\n",
    "\n",
    "credit_crosstab = pd.crosstab(df['CreditScore_Bin'], df['Exited_new'], margins=True)\n",
    "print(credit_crosstab)"
   ]
  },
  {
   "cell_type": "code",
   "execution_count": 232,
   "id": "13681ed7",
   "metadata": {},
   "outputs": [
    {
     "data": {
      "image/png": "[encoded data removed]",
      "text/plain": [
       "<Figure size 900x400 with 1 Axes>"
      ]
     },
     "metadata": {},
     "output_type": "display_data"
    }
   ],
   "source": [
    "import seaborn as sns\n",
    "import matplotlib.pyplot as plt\n",
    "\n",
    "# Assuming 'imp' contains feature importances and 'names' contains feature names\n",
    "feature_importance_df = pd.DataFrame({'Feature': names, 'Importance': imp[indices]})\n",
    "\n",
    "# Plot the Seaborn barplot\n",
    "plt.figure(figsize=(9, 4))\n",
    "sns.barplot(x='Importance', y='Feature', data=feature_importance_df, palette='viridis')\n",
    "plt.title(\"Important Features\")\n",
    "plt.show()\n"
   ]
  },
  {
   "cell_type": "code",
   "execution_count": 233,
   "id": "457adf88",
   "metadata": {},
   "outputs": [],
   "source": [
    "lb= LabelEncoder()\n",
    "df['Gender']= lb.fit_transform(df['Gender'])"
   ]
  },
  {
   "cell_type": "code",
   "execution_count": 234,
   "id": "74af87ab",
   "metadata": {},
   "outputs": [],
   "source": [
    "df= pd.get_dummies(df,columns=['Geography'], drop_first=True)"
   ]
  },
  {
   "cell_type": "code",
   "execution_count": 235,
   "id": "f6b3a3ec",
   "metadata": {},
   "outputs": [
    {
     "data": {
      "text/html": [
       "<div>\n",
       "<style scoped>\n",
       "    .dataframe tbody tr th:only-of-type {\n",
       "        vertical-align: middle;\n",
       "    }\n",
       "\n",
       "    .dataframe tbody tr th {\n",
       "        vertical-align: top;\n",
       "    }\n",
       "\n",
       "    .dataframe thead th {\n",
       "        text-align: right;\n",
       "    }\n",
       "</style>\n",
       "<table border=\"1\" class=\"dataframe\">\n",
       "  <thead>\n",
       "    <tr style=\"text-align: right;\">\n",
       "      <th></th>\n",
       "      <th>RowNumber</th>\n",
       "      <th>CustomerId</th>\n",
       "      <th>Surname</th>\n",
       "      <th>CreditScore</th>\n",
       "      <th>Gender</th>\n",
       "      <th>Age</th>\n",
       "      <th>Tenure</th>\n",
       "      <th>Balance</th>\n",
       "      <th>NumOfProducts</th>\n",
       "      <th>HasCrCard</th>\n",
       "      <th>IsActiveMember</th>\n",
       "      <th>EstimatedSalary</th>\n",
       "      <th>Exited</th>\n",
       "      <th>Exited_new</th>\n",
       "      <th>CreditScore_Bin</th>\n",
       "      <th>Geography_Germany</th>\n",
       "      <th>Geography_Spain</th>\n",
       "    </tr>\n",
       "  </thead>\n",
       "  <tbody>\n",
       "    <tr>\n",
       "      <th>6698</th>\n",
       "      <td>6699</td>\n",
       "      <td>15784491</td>\n",
       "      <td>Ho</td>\n",
       "      <td>725</td>\n",
       "      <td>0</td>\n",
       "      <td>31</td>\n",
       "      <td>6</td>\n",
       "      <td>0.00</td>\n",
       "      <td>1</td>\n",
       "      <td>0</td>\n",
       "      <td>0</td>\n",
       "      <td>61326.43</td>\n",
       "      <td>0</td>\n",
       "      <td>Stayed</td>\n",
       "      <td>High</td>\n",
       "      <td>False</td>\n",
       "      <td>False</td>\n",
       "    </tr>\n",
       "    <tr>\n",
       "      <th>104</th>\n",
       "      <td>105</td>\n",
       "      <td>15804919</td>\n",
       "      <td>Dunbabin</td>\n",
       "      <td>670</td>\n",
       "      <td>0</td>\n",
       "      <td>65</td>\n",
       "      <td>1</td>\n",
       "      <td>0.00</td>\n",
       "      <td>1</td>\n",
       "      <td>1</td>\n",
       "      <td>1</td>\n",
       "      <td>177655.68</td>\n",
       "      <td>1</td>\n",
       "      <td>Churned</td>\n",
       "      <td>Medium</td>\n",
       "      <td>False</td>\n",
       "      <td>True</td>\n",
       "    </tr>\n",
       "    <tr>\n",
       "      <th>4552</th>\n",
       "      <td>4553</td>\n",
       "      <td>15655648</td>\n",
       "      <td>Bock</td>\n",
       "      <td>610</td>\n",
       "      <td>0</td>\n",
       "      <td>25</td>\n",
       "      <td>2</td>\n",
       "      <td>0.00</td>\n",
       "      <td>2</td>\n",
       "      <td>1</td>\n",
       "      <td>0</td>\n",
       "      <td>123723.83</td>\n",
       "      <td>0</td>\n",
       "      <td>Stayed</td>\n",
       "      <td>Medium</td>\n",
       "      <td>False</td>\n",
       "      <td>False</td>\n",
       "    </tr>\n",
       "    <tr>\n",
       "      <th>8268</th>\n",
       "      <td>8269</td>\n",
       "      <td>15712608</td>\n",
       "      <td>Costa</td>\n",
       "      <td>787</td>\n",
       "      <td>0</td>\n",
       "      <td>42</td>\n",
       "      <td>2</td>\n",
       "      <td>74483.97</td>\n",
       "      <td>2</td>\n",
       "      <td>0</td>\n",
       "      <td>1</td>\n",
       "      <td>44273.91</td>\n",
       "      <td>0</td>\n",
       "      <td>Stayed</td>\n",
       "      <td>High</td>\n",
       "      <td>True</td>\n",
       "      <td>False</td>\n",
       "    </tr>\n",
       "    <tr>\n",
       "      <th>7493</th>\n",
       "      <td>7494</td>\n",
       "      <td>15683276</td>\n",
       "      <td>Sargood</td>\n",
       "      <td>610</td>\n",
       "      <td>0</td>\n",
       "      <td>37</td>\n",
       "      <td>10</td>\n",
       "      <td>140363.95</td>\n",
       "      <td>2</td>\n",
       "      <td>1</td>\n",
       "      <td>1</td>\n",
       "      <td>129563.86</td>\n",
       "      <td>0</td>\n",
       "      <td>Stayed</td>\n",
       "      <td>Medium</td>\n",
       "      <td>False</td>\n",
       "      <td>True</td>\n",
       "    </tr>\n",
       "  </tbody>\n",
       "</table>\n",
       "</div>"
      ],
      "text/plain": [
       "      RowNumber  CustomerId   Surname  CreditScore  Gender  Age  Tenure  \\\n",
       "6698       6699    15784491        Ho          725       0   31       6   \n",
       "104         105    15804919  Dunbabin          670       0   65       1   \n",
       "4552       4553    15655648      Bock          610       0   25       2   \n",
       "8268       8269    15712608     Costa          787       0   42       2   \n",
       "7493       7494    15683276   Sargood          610       0   37      10   \n",
       "\n",
       "        Balance  NumOfProducts  HasCrCard  IsActiveMember  EstimatedSalary  \\\n",
       "6698       0.00              1          0               0         61326.43   \n",
       "104        0.00              1          1               1        177655.68   \n",
       "4552       0.00              2          1               0        123723.83   \n",
       "8268   74483.97              2          0               1         44273.91   \n",
       "7493  140363.95              2          1               1        129563.86   \n",
       "\n",
       "      Exited Exited_new CreditScore_Bin  Geography_Germany  Geography_Spain  \n",
       "6698       0     Stayed            High              False            False  \n",
       "104        1    Churned          Medium              False             True  \n",
       "4552       0     Stayed          Medium              False            False  \n",
       "8268       0     Stayed            High               True            False  \n",
       "7493       0     Stayed          Medium              False             True  "
      ]
     },
     "execution_count": 235,
     "metadata": {},
     "output_type": "execute_result"
    }
   ],
   "source": [
    "df.sample(5)"
   ]
  },
  {
   "cell_type": "code",
   "execution_count": 236,
   "id": "5a471440",
   "metadata": {},
   "outputs": [
    {
     "data": {
      "text/plain": [
       "Index(['RowNumber', 'CustomerId', 'Surname', 'CreditScore', 'Gender', 'Age',\n",
       "       'Tenure', 'Balance', 'NumOfProducts', 'HasCrCard', 'IsActiveMember',\n",
       "       'EstimatedSalary', 'Exited', 'Exited_new', 'CreditScore_Bin',\n",
       "       'Geography_Germany', 'Geography_Spain'],\n",
       "      dtype='object')"
      ]
     },
     "execution_count": 236,
     "metadata": {},
     "output_type": "execute_result"
    }
   ],
   "source": [
    "df.columns"
   ]
  },
  {
   "cell_type": "code",
   "execution_count": 253,
   "id": "deaafa91",
   "metadata": {},
   "outputs": [],
   "source": [
    "features=['CreditScore', 'Gender', 'Age',\n",
    "       'Tenure', 'Balance', 'NumOfProducts', 'HasCrCard', 'IsActiveMember',\n",
    "       'EstimatedSalary','Geography_Germany', 'Geography_Spain']"
   ]
  },
  {
   "cell_type": "code",
   "execution_count": 254,
   "id": "a5ff10c7",
   "metadata": {},
   "outputs": [],
   "source": [
    "x=df[features]\n",
    "y=df['Exited']"
   ]
  },
  {
   "cell_type": "code",
   "execution_count": 255,
   "id": "58f1ee8e",
   "metadata": {},
   "outputs": [],
   "source": [
    "x_train,x_test,y_train,y_test= train_test_split(x,y,random_state=42,test_size=0.2)"
   ]
  },
  {
   "cell_type": "code",
   "execution_count": 256,
   "id": "35ad5db2",
   "metadata": {},
   "outputs": [],
   "source": [
    "sc= StandardScaler()\n",
    "x_train= sc.fit_transform(x_train)\n",
    "x_test= sc.fit_transform(x_test)"
   ]
  },
  {
   "cell_type": "code",
   "execution_count": 257,
   "id": "d318a7ae",
   "metadata": {},
   "outputs": [
    {
     "data": {
      "text/plain": [
       "array([[ 0.35649971,  0.91324755, -0.6557859 , ...,  1.36766974,\n",
       "        -0.57946723, -0.57638802],\n",
       "       [-0.20389777,  0.91324755,  0.29493847, ...,  1.6612541 ,\n",
       "         1.72572313, -0.57638802],\n",
       "       [-0.96147213,  0.91324755, -1.41636539, ..., -0.25280688,\n",
       "        -0.57946723,  1.73494238],\n",
       "       ...,\n",
       "       [ 0.86500853, -1.09499335, -0.08535128, ..., -0.1427649 ,\n",
       "        -0.57946723, -0.57638802],\n",
       "       [ 0.15932282,  0.91324755,  0.3900109 , ..., -0.05082558,\n",
       "        -0.57946723, -0.57638802],\n",
       "       [ 0.47065475,  0.91324755,  1.15059039, ..., -0.81456811,\n",
       "         1.72572313, -0.57638802]])"
      ]
     },
     "execution_count": 257,
     "metadata": {},
     "output_type": "execute_result"
    }
   ],
   "source": [
    "x_train"
   ]
  },
  {
   "cell_type": "code",
   "execution_count": 258,
   "id": "93645d69",
   "metadata": {},
   "outputs": [
    {
     "data": {
      "text/plain": [
       "array([[-5.12501721e-01,  9.09111664e-01, -6.77299309e-01, ...,\n",
       "        -9.90969462e-01,  1.73668197e+00, -5.63491843e-01],\n",
       "       [-2.36046598e-01,  9.09111664e-01,  3.84298354e-01, ...,\n",
       "         8.29379298e-01, -5.75810666e-01, -5.63491843e-01],\n",
       "       [-4.61306328e-01, -1.09997489e+00,  4.80807232e-01, ...,\n",
       "        -6.99045482e-01, -5.75810666e-01,  1.77464858e+00],\n",
       "       ...,\n",
       "       [ 8.59534812e-01, -1.09997489e+00,  7.70333868e-01, ...,\n",
       "        -1.13742992e+00, -5.75810666e-01, -5.63491843e-01],\n",
       "       [ 4.70449825e-01,  9.09111664e-01, -9.66825944e-01, ...,\n",
       "        -3.82376884e-01, -5.75810666e-01, -5.63491843e-01],\n",
       "       [-1.84851205e-01,  9.09111664e-01, -1.73715981e-03, ...,\n",
       "         1.55739636e-01,  1.73668197e+00, -5.63491843e-01]])"
      ]
     },
     "execution_count": 258,
     "metadata": {},
     "output_type": "execute_result"
    }
   ],
   "source": [
    "x_test"
   ]
  },
  {
   "cell_type": "code",
   "execution_count": 259,
   "id": "2f47df19",
   "metadata": {},
   "outputs": [
    {
     "name": "stdout",
     "output_type": "stream",
     "text": [
      "Logistic Regression Model\n",
      "[[1541  313]\n",
      " [  66   80]]\n",
      "              precision    recall  f1-score   support\n",
      "\n",
      "           0       0.96      0.83      0.89      1854\n",
      "           1       0.20      0.55      0.30       146\n",
      "\n",
      "    accuracy                           0.81      2000\n",
      "   macro avg       0.58      0.69      0.59      2000\n",
      "weighted avg       0.90      0.81      0.85      2000\n",
      "\n",
      "0.8105\n"
     ]
    }
   ],
   "source": [
    "from sklearn.linear_model import LogisticRegression \n",
    "\n",
    "logreg= LogisticRegression()\n",
    "\n",
    "logreg.fit(x_train,y_train)\n",
    "\n",
    "y_pred_log_reg= logreg.predict(x_test)\n",
    "\n",
    "from sklearn.metrics import accuracy_score, confusion_matrix, classification_report\n",
    "\n",
    "print('Logistic Regression Model')\n",
    "print(confusion_matrix(y_pred_log_reg, y_test))\n",
    "print(classification_report(y_pred_log_reg, y_test))\n",
    "print(accuracy_score(y_pred_log_reg, y_test))"
   ]
  },
  {
   "cell_type": "code",
   "execution_count": 260,
   "id": "fc7a529a",
   "metadata": {},
   "outputs": [
    {
     "name": "stdout",
     "output_type": "stream",
     "text": [
      "Gaussian NB Model\n",
      "[[1525   82]\n",
      " [ 253  140]]\n",
      "              precision    recall  f1-score   support\n",
      "\n",
      "           0       0.86      0.95      0.90      1607\n",
      "           1       0.63      0.36      0.46       393\n",
      "\n",
      "    accuracy                           0.83      2000\n",
      "   macro avg       0.74      0.65      0.68      2000\n",
      "weighted avg       0.81      0.83      0.81      2000\n",
      "\n",
      "0.8325\n"
     ]
    }
   ],
   "source": [
    "from sklearn.naive_bayes import GaussianNB\n",
    "\n",
    "NB= GaussianNB()\n",
    "\n",
    "NB.fit(x_train,y_train)\n",
    "\n",
    "y_pred= NB.predict(x_test)\n",
    "\n",
    "confusion_matrix= confusion_matrix(y_test,y_pred)\n",
    "\n",
    "classification_report= classification_report(y_test,y_pred)\n",
    "\n",
    "accuracy_score= accuracy_score(y_test,y_pred)\n",
    "\n",
    "print('Gaussian NB Model')\n",
    "print(confusion_matrix)\n",
    "print(classification_report)\n",
    "print(accuracy_score)"
   ]
  },
  {
   "cell_type": "code",
   "execution_count": 263,
   "id": "481c3eca",
   "metadata": {},
   "outputs": [
    {
     "name": "stdout",
     "output_type": "stream",
     "text": [
      "KNN Model\n",
      "[[1498  223]\n",
      " [ 109  170]]\n",
      "              precision    recall  f1-score   support\n",
      "\n",
      "           0       0.93      0.87      0.90      1721\n",
      "           1       0.43      0.61      0.51       279\n",
      "\n",
      "    accuracy                           0.83      2000\n",
      "   macro avg       0.68      0.74      0.70      2000\n",
      "weighted avg       0.86      0.83      0.85      2000\n",
      "\n",
      "0.834\n"
     ]
    }
   ],
   "source": [
    "from sklearn.neighbors import KNeighborsClassifier\n",
    "\n",
    "knn = KNeighborsClassifier(n_neighbors=3)  # Choose the number of neighbors (K)\n",
    "\n",
    "knn.fit(x_train, y_train)  # Train the model\n",
    "\n",
    "y_pred_knn = knn.predict(x_test)  # Make predictions\n",
    "\n",
    "print('KNN Model')\n",
    "print(confusion_matrix(y_pred_knn, y_test))\n",
    "print(classification_report(y_pred_knn, y_test))\n",
    "print(accuracy_score(y_pred_knn, y_test))\n"
   ]
  },
  {
   "cell_type": "code",
   "execution_count": 264,
   "id": "5152bdfd",
   "metadata": {},
   "outputs": [
    {
     "name": "stdout",
     "output_type": "stream",
     "text": [
      "SVM Model\n",
      "[[1563  243]\n",
      " [  44  150]]\n",
      "              precision    recall  f1-score   support\n",
      "\n",
      "           0       0.97      0.87      0.92      1806\n",
      "           1       0.38      0.77      0.51       194\n",
      "\n",
      "    accuracy                           0.86      2000\n",
      "   macro avg       0.68      0.82      0.71      2000\n",
      "weighted avg       0.92      0.86      0.88      2000\n",
      "\n",
      "0.8565\n"
     ]
    }
   ],
   "source": [
    "from sklearn.svm import SVC\n",
    "\n",
    "svc = SVC()  \n",
    "svc.fit(x_train, y_train)  \n",
    "\n",
    "y_pred_svc = svc.predict(x_test) \n",
    "\n",
    "print('SVM Model')\n",
    "print(confusion_matrix(y_pred_svc, y_test))\n",
    "print(classification_report(y_pred_svc, y_test))\n",
    "print(accuracy_score(y_pred_svc, y_test))"
   ]
  },
  {
   "cell_type": "code",
   "execution_count": 265,
   "id": "0aebbd87",
   "metadata": {},
   "outputs": [
    {
     "name": "stdout",
     "output_type": "stream",
     "text": [
      "Random Forest Model\n",
      "[[1554   53]\n",
      " [ 209  184]]\n",
      "              precision    recall  f1-score   support\n",
      "\n",
      "           0       0.88      0.97      0.92      1607\n",
      "           1       0.78      0.47      0.58       393\n",
      "\n",
      "    accuracy                           0.87      2000\n",
      "   macro avg       0.83      0.72      0.75      2000\n",
      "weighted avg       0.86      0.87      0.86      2000\n",
      "\n",
      "0.869\n"
     ]
    }
   ],
   "source": [
    "from sklearn.ensemble import RandomForestClassifier\n",
    "\n",
    "model= RandomForestClassifier(n_estimators=100,random_state=42)\n",
    "\n",
    "model.fit(x_train,y_train)\n",
    "\n",
    "y_pred= model.predict(x_test)\n",
    "\n",
    "confusionmatrix= confusion_matrix(y_test,y_pred)\n",
    "\n",
    "classificationreport= classification_report(y_test,y_pred)\n",
    "\n",
    "accuracyscore= accuracy_score(y_test,y_pred)\n",
    "\n",
    "print('Random Forest Model')\n",
    "print(confusionmatrix)\n",
    "print(classificationreport)\n",
    "print(accuracyscore)"
   ]
  },
  {
   "cell_type": "markdown",
   "id": "649a8af7",
   "metadata": {},
   "source": [
    "## Recommendations\n",
    "- **Best Model**: **Support Vector Machine (SVM)**\n",
    "  - **Why?**: SVM has the highest accuracy (86%) and a strong F1-Score for churned predictions (1). It strikes a good balance between precision and recall, making it a reliable model for this dataset.\n",
    "  \n",
    "- **Consider Random Forest**: If interpretability is essential, Random Forest can provide insights into feature importance while offering a good accuracy rate (87%).\n",
    "  \n",
    "- **Use KNN**: KNN may be a suitable alternative since it has a better balance for churn (1) than Logistic Regression and Gaussian Naive Bayes.\n"
   ]
  },
  {
   "cell_type": "code",
   "execution_count": null,
   "id": "f25b38f8",
   "metadata": {},
   "outputs": [],
   "source": []
  }
 ],
 "metadata": {
  "kernelspec": {
   "display_name": "Python 3 (ipykernel)",
   "language": "python",
   "name": "python3"
  },
  "language_info": {
   "codemirror_mode": {
    "name": "ipython",
    "version": 3
   },
   "file_extension": ".py",
   "mimetype": "text/x-python",
   "name": "python",
   "nbconvert_exporter": "python",
   "pygments_lexer": "ipython3",
   "version": "3.11.5"
  }
 },
 "nbformat": 4,
 "nbformat_minor": 5
}
